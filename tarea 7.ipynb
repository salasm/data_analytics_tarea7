{
 "cells": [
  {
   "cell_type": "markdown",
   "metadata": {},
   "source": [
    "## Nivell 1\n",
    "- Exercici 1\n",
    "Calculadora de l'índex de massa corporal\n",
    "\n",
    "Escriu una funció que calculi l'IMC ingressat per l'usuari/ària, és a dir, qui ho executi haurà d'ingressar aquestes dades.\n",
    "La funció ha de classificar el resultat en les seves respectives categories\n"
   ]
  },
  {
   "cell_type": "markdown",
   "metadata": {},
   "source": [
    "<p style=\"text-align: justify;\">\n",
    "Primero creamos una función e introducimos dos variables con la cláusula input para que el usuario\n",
    "introduzca los datos necesarios para calcular el IMC, peso y altura (los decimales deben estar en formato americano). Usando float permitimos la entrada de números con decimales. Añadimos variable con el cálculo del IMC, redondeado a 1 solo decimal con round y usando float para que el output sea número decimal. El cálculo es peso divido entre altura al cuadrado. Añadimos la estructura de control de selección que toma decisiones basadas en la evaluación de condiciones, el condicional if-elif-else. Según los datos introducidos  y el cálculo de IMC, se clasificará el resultado en 4 categorías distintas y se mostrará como output el imc junto a la categoría de turno. Usamos f' para formatear el string y {imc} para que nos aparezca la variable con el cálculo IMC \n",
    "dentro de éste."
   ]
  },
  {
   "cell_type": "code",
   "execution_count": 34,
   "metadata": {},
   "outputs": [
    {
     "name": "stdout",
     "output_type": "stream",
     "text": [
      "Su índice de masa corporal es 23.5 y se considera peso normal\n"
     ]
    }
   ],
   "source": [
    "def calcular_imc():\n",
    "    peso = float(input('Introducir peso en kg (usar punto si hay decimal): '))\n",
    "    altura = float(input('Introducir altura en metros (usar punto si hay decimal): '))\n",
    "    imc = round(float(peso/pow(altura, 2)), 1)\n",
    "    if imc < 18.5:\n",
    "        print(f'Su índice de masa corporal es {imc} y se considera bajo peso')\n",
    "    elif 18.5 <= imc <= 24.9:\n",
    "        print(f'Su índice de masa corporal es {imc} y se considera peso normal')\n",
    "    elif 25 <= imc <= 29.9: \n",
    "        print(f'Su índice de masa corporal es {imc} y se considera sobrepeso')\n",
    "    else:\n",
    "        print(f'Su índice de masa corporal es {imc} y se considera obesidad')\n",
    "\n",
    "calcular_imc()"
   ]
  },
  {
   "cell_type": "markdown",
   "metadata": {},
   "source": [
    "- Exercici 2\n",
    "Convertidor de temperatures.\n",
    "\n",
    "Existeixen diverses unitats de temperatura utilitzades en diferents contextos i regions. Les més comunes són Celsius (°C), Fahrenheit (°F) i Kelvin (K). També existeixen altres unitats com Rankine (°Ra) i Réaumur (°Re). Selecciona almenys 2 conversors, de tal manera que en introduir una temperatura retorni, com a mínim, dues conversions."
   ]
  },
  {
   "cell_type": "markdown",
   "metadata": {},
   "source": [
    "<p style=\"text-align: justify;\">\n",
    "Definimos la función como antes y creamos la variable en formato decimal con la función input para que \n",
    "el usuario introduzca la temperatura que desea ser convertida a grados Fahrenheit o Kelvin. creamos dos variables \n",
    "con el cálculo necesario para convertir ºC a ºF o ºK. redondeamos el cálculo con round a dos decimales.\n",
    "Usamos el mismo método que el ejercicio anterior f' y { } con la variable de grados F o K para que nos aparezcan\n",
    "los grados."
   ]
  },
  {
   "cell_type": "code",
   "execution_count": 35,
   "metadata": {},
   "outputs": [
    {
     "name": "stdout",
     "output_type": "stream",
     "text": [
      "Conversión a grados Fahrenheit: 77.0 ºF\n",
      "Conversión a grados Kelvin: 298.15 ºK\n"
     ]
    }
   ],
   "source": [
    "def conversor():\n",
    "    temp = float(input('Introducir temperatura en ºC (usar punto si hay decimal): '))\n",
    "    F = round((temp * 9/5) + 32, 2)\n",
    "    K = round(temp + 273.15, 2)\n",
    "    print(f'Conversión a grados Fahrenheit: {F} ºF')\n",
    "    print(f'Conversión a grados Kelvin: {K} ºK')\n",
    "\n",
    "conversor()"
   ]
  },
  {
   "cell_type": "markdown",
   "metadata": {},
   "source": [
    "- Exercici 3\n",
    "Comptador de paraules d'un text.\n",
    "\n",
    "Escriu una funció que donat un text, mostri les vegades que apareix cada paraula."
   ]
  },
  {
   "cell_type": "markdown",
   "metadata": {},
   "source": [
    "<p style=\"text-align: justify;\">\n",
    "Lo primero que haremos es crear una variable text con input para que el usuario introduzca el texto que se desee analizar. Luego creamos otra variable para poner todas las palabras en minúscula con .lower() y con .split() crear una lista que incluya todas las palabras que contenga el texto para poder iterar sobre ella.\n",
    "Creamos una variable con un diccionario vacío en el que las claves serán las palabras que contenga el texto\n",
    "y los valores serán el recuento de veces que aparece cada palabra. Volvemos a generar una estructura de control,\n",
    "primero usamos un for loop para que itere sobre cada palabra que contenga la lista words, creamos la variable\n",
    "word y la igualamos a word.strip(...) para eliminar todos los signos de exclamación, interrogación, puntos, comas\n",
    "o comillas y luego el condicional if else para que evalúe si la palabra se repite, sumarle 1 en el recuento del \n",
    "diccionario y si aparece una sola vez, que se iguale a 1 en count_words. Hacemos que la función devuelva el \n",
    "diccionario con la palabra y el número de veces que se repite en el texto."
   ]
  },
  {
   "cell_type": "code",
   "execution_count": 36,
   "metadata": {},
   "outputs": [
    {
     "data": {
      "text/plain": [
       "{'hola': 1, 'esto': 1, 'es': 1, 'un': 1, 'texto': 1, 'de': 1, 'prueba': 1}"
      ]
     },
     "execution_count": 36,
     "metadata": {},
     "output_type": "execute_result"
    }
   ],
   "source": [
    "def word_count():\n",
    "    text = input('Introducir texto:')\n",
    "    words = text.lower().split()\n",
    "    count_words = {}\n",
    "    for word in words:\n",
    "        word = word.strip(\"()?¿!¡.,''\")\n",
    "        if word in count_words:\n",
    "            count_words[word] += 1\n",
    "        else:\n",
    "            count_words[word] = 1 \n",
    "    return count_words\n",
    "\n",
    "word_count()"
   ]
  },
  {
   "attachments": {
    "image.png": {
     "image/png": "[encoded data removed]"
    }
   },
   "cell_type": "markdown",
   "metadata": {},
   "source": [
    "- Exercici 4\n",
    "Diccionari invers.\n",
    "\n",
    "Resulta que el client té una enquesta molt antiga que s'emmagatzema en un diccionari i els resultats els necessita al revés, és a dir, intercanviats les claus i els valors. Els valors i claus en el diccionari original són únics; si aquest no és el cas, la funció hauria d'imprimir un missatge d'advertiment.\n",
    "\n",
    "![image.png](attachment:image.png)"
   ]
  },
  {
   "cell_type": "markdown",
   "metadata": {},
   "source": [
    "<p style=\"text-align: justify;\">\n",
    "En este ejercicio usamos una estructura de control con condicional if en la que averiguamos si hay valores repetidos o no en un diccionario. Si el número de valores del diccionario (usando dictionary.values()) es distinto al número de valores que sacamos con o sin incluir set después de len, significa que hay valores \n",
    "repetidos y debemos cambiarlos para que sean únicos. Recordar que la función set elimina valores duplicados.\n",
    "Si no se cumple la condición hacemos la reversión creando una variable que incluya un diccionario en el que \n",
    "el valor pase a ser la clave y la clave pase a ser valor, .items() es un método de diccionarios que devuelve \n",
    "una vista de todos los elementos del mismo. Finalmente, hacemos una comprobación usando una variable que sea el diccionario del enunciado y llamamos la función con dicha variable como parámetro."
   ]
  },
  {
   "cell_type": "code",
   "execution_count": 37,
   "metadata": {},
   "outputs": [
    {
     "data": {
      "text/plain": [
       "{1: 'a', 2: 'b', 3: 'c'}"
      ]
     },
     "execution_count": 37,
     "metadata": {},
     "output_type": "execute_result"
    }
   ],
   "source": [
    "def reverse_dict(dictionary):\n",
    "    if len(dictionary.values()) != len(set(dictionary.values())):\n",
    "        print('Error: multiple keys for one value')\n",
    "    reversed_dict = {value: key for key, value in dictionary.items()}\n",
    "    return reversed_dict\n",
    "\n",
    "dictionary = {'a': 1, 'b': 2, 'c': 3}\n",
    "reverse_dict(dictionary)"
   ]
  },
  {
   "attachments": {
    "image.png": {
     "image/png": "[encoded data removed]"
    }
   },
   "cell_type": "markdown",
   "metadata": {},
   "source": [
    "## Nivell 2\n",
    "\n",
    "Exercici 1\n",
    "Diccionari invers amb duplicats\n",
    "\n",
    "Continuant amb l\\'exercici 4 del nivell 1: al client es va oblidar de comentar un detall i resulta que els valors en el diccionari original poden duplicar-se i més, per la qual cosa les claus intercanviades poden tenir duplicats. En aquest cas, en l'exercici anterior imprimies un missatge d'advertiment, ara, els valors del diccionari resultant hauran d'emmagatzemar-se com una llista. Tingues en compte que si és un valor únic no ha de ser una llista.\n",
    "![image.png](attachment:image.png)"
   ]
  },
  {
   "cell_type": "markdown",
   "metadata": {},
   "source": [
    "<p style=\"text-align: justify;\">\n",
    "En este caso primero debemos crear un diccionario (reversed_dict) vacío donde los valores serán una lista con las claves del diccionario que introducimos como parámetro en la función, siempre y cuando haya varios valores con la misma clave. Creamos una estructura de control con un for loop para que se itere por cada clave, valor del diccionario y se evalúe la siguiente condición, si el valor se encuentra en reversed_dict y con isintance comprobamos que está en formato lista, añade la clave con .append() como valor en reversed_dict. Si no se cumple la instancia, añade la nueva clave con valor repetido en el diccionario inicial. En caso de que el valor no se encuentre en reversed_dict, hacer que éste sea la clave del diccionario inicial. Finalmente, hacemos que la función nos devuelva reversed_dict."
   ]
  },
  {
   "cell_type": "code",
   "execution_count": 38,
   "metadata": {},
   "outputs": [
    {
     "data": {
      "text/plain": [
       "{'apple': 'x', 'banana': ['y', 'z']}"
      ]
     },
     "execution_count": 38,
     "metadata": {},
     "output_type": "execute_result"
    }
   ],
   "source": [
    "def reverse_dictionary_plus(dictionary):\n",
    "    reversed_dict = {}\n",
    "    for key, value in dictionary.items():\n",
    "        if value in reversed_dict:\n",
    "            if isinstance(reversed_dict[value], list):\n",
    "                reversed_dict[value].append(key)\n",
    "            else:\n",
    "                reversed_dict[value] = [reversed_dict[value], key]  \n",
    "        else:\n",
    "            reversed_dict[value] = key\n",
    "    return reversed_dict\n",
    "    \n",
    "dictionary = {'x': 'apple', 'y': 'banana', 'z': 'banana'}\n",
    "reverse_dictionary_plus(dictionary)"
   ]
  },
  {
   "attachments": {
    "image.png": {
     "image/png": "[encoded data removed]"
    }
   },
   "cell_type": "markdown",
   "metadata": {},
   "source": [
    "Exercici 2\n",
    "Conversió de tipus de dades\n",
    "\n",
    "El client rep una llista de dades i necessita generar dues llistes, la primera on estaran tots els elements que es van poder convertir en flotants i l'altra on estan els elements que no es van poder convertir. Exemple de la llista que rep el client: [ '1.3', 'one' , '1e10' , 'seven', '3-1/2', ('2',1,1.4,'not-a-number'), [1,2,'3','3.4']]\n",
    "\n",
    "![image.png](attachment:image.png)"
   ]
  },
  {
   "cell_type": "markdown",
   "metadata": {},
   "source": [
    "<p style=\"text-align: justify;\">\n",
    "Primero creamos dos variables con dos listas vacías en los que insertaremos los elementos que se puedan convertir en floats y los que no. Creamos otra estructura de control con un for loop en el que se itere por cada elemento de la lista que le pasaremos a la función como parámetro y luego creamos una variable que convierta el elemento\n",
    "en una lista si éste es una instancia de list o tuple. la función isinstance devuelve True si el elemento es una lista o tupla y False en caso contrario. Si no lo es, se mete el elemento entre dos corchetes, convirtiéndose en una lista de un sólo elemento. Luego creamos un for loop que itere sobre cada subelemento y probamos con try a convertirlo en formato float y añadirlo a la lista nums con .append(). En caso de que nos dé ValueError por no poder convertirlo en float, añadimos el subelemento a la lista non_nums. Hacemos que la función nos devuelva las dos listas de números en formato float y elementos que no se han podido convertir en float. Incluimos una variable\n",
    "con los datos que queremos convertir y clasificar. Finalmente, llamamos a la función."
   ]
  },
  {
   "cell_type": "code",
   "execution_count": 39,
   "metadata": {},
   "outputs": [
    {
     "data": {
      "text/plain": [
       "([1.3, 10000000000.0, 2.0, 1.0, 1.4, 1.0, 2.0, 3.0, 3.4],\n",
       " ['one', 'seven', '3-1/2', 'not-a-number'])"
      ]
     },
     "execution_count": 39,
     "metadata": {},
     "output_type": "execute_result"
    }
   ],
   "source": [
    "\n",
    "def conversion(data):\n",
    "    nums, non_nums = [], []\n",
    "    for item in data:\n",
    "        items = list(item) if isinstance(item, (list, tuple)) else [item]\n",
    "        for sub_item in items:\n",
    "            try:\n",
    "                nums.append(float(sub_item))\n",
    "            except ValueError:\n",
    "                non_nums.append(sub_item)\n",
    "    return nums, non_nums\n",
    "\n",
    "data = ['1.3', 'one', '1e10', 'seven', '3-1/2', ('2', 1, 1.4, 'not-a-number'), [1, 2, '3', '3.4']]\n",
    "conversion(data)"
   ]
  },
  {
   "cell_type": "markdown",
   "metadata": {},
   "source": [
    "## Nivell 3\n",
    "Exercici 1\n",
    "Comptador i endreçador de paraules d'un text.\n",
    "\n",
    "El client va quedar content amb el comptador de paraules, però ara vol llegir arxius TXT i que calculi la freqüència de cada paraula ordenades dins de les entrades habituals del diccionari segons la lletra amb la qual comencen, és a dir, les claus han d'anar de la A a la Z i dins de la A hem d'anar de la A la Z. Per exemple, per a l'arxiu \"tu_me_quieres_blanca.txt\" la sortida esperada seria:"
   ]
  },
  {
   "cell_type": "markdown",
   "metadata": {},
   "source": [
    "<p style=\"text-align: justify;\">\n",
    "Para este último ejercicio, creamos una función con la variable que contenga la ubicación del texto descargado tu_me_quieres_blanca.txt como parámetro, luego creamos una variable con un diccionario vacío que contendrá las letras del abecedario como claves y otro diccionario con todas las palabras que empiecen por dicha letra y su frecuencia como valor. A continuación creamos el código que abrirá el archivo, leerá el texto y lo convertirá en minúsculas (.read().lower()). Más adelante, creamos una variable que contendrá una lista de todas las palabras separadas por comas (.split()).\n",
    "<p style=\"text-align: justify;\">\n",
    "Seguimos con una estructura de control que itere sobre cada palabra y elimine paréntesis,\n",
    "signos de exclamación, puntos y comas con .strip(...). Luego añadimos una condición en la que\n",
    "si hay un espacio vacío, que continue la iteración y se lo salte (Si se añade este código, da error). Creamos una variable que contenga la primera letra de cada palabra y continuamos con otra serie de condiciones. Si la primera letra no está en result, hacer que se cree un diccionario en result con la clave first_letter. Una vez creado este segundo diccionario cuyas claves serán las palabras que empiezen por first_letter, si la palabra ya está en éste, añadir un 1 para contar la frecuencia de palabras y si aún no existe la palabra que se iguale a 1. Añadimos una última iteración para que las palabras aparezcan en orden alfabético y finalizamos la función para que nos devuelva el diccionario result con las letras o claves ordenadas alfabéticamente también. Añadimos una variable filepath con la ruta de acceso al archivo con el texto y llamamos la función con filepath como parámetro."
   ]
  },
  {
   "cell_type": "code",
   "execution_count": 40,
   "metadata": {},
   "outputs": [
    {
     "data": {
      "text/plain": [
       "{'a': {'a': 3,\n",
       "  'agua:': 1,\n",
       "  'al': 2,\n",
       "  'alba': 4,\n",
       "  'alcobas': 1,\n",
       "  'alimenta': 1,\n",
       "  'alma': 1,\n",
       "  'amarga;': 1,\n",
       "  'azucena': 1},\n",
       " 'b': {'baco': 1,\n",
       "  'banquete': 1,\n",
       "  'bebe': 1,\n",
       "  'blanca': 3,\n",
       "  'boca;': 1,\n",
       "  'bosques': 1,\n",
       "  'buen': 1},\n",
       " 'c': {'cabañas;': 1,\n",
       "  'carnes': 2,\n",
       "  'casta': 3,\n",
       "  'cerrada': 1,\n",
       "  'con': 4,\n",
       "  'conservas': 1,\n",
       "  'copas': 1,\n",
       "  'corola': 1,\n",
       "  'corriste': 1,\n",
       "  'cuando': 2,\n",
       "  'cubierto': 1,\n",
       "  'cuerpo': 1,\n",
       "  'cuáles': 1},\n",
       " 'd': {'de': 8, 'dejaste': 1, 'del': 1, 'diga': 1, 'dios': 2, 'duerme': 1},\n",
       " 'e': {'el': 4,\n",
       "  'ellas': 1,\n",
       "  'en': 4,\n",
       "  'engaño': 1,\n",
       "  'enredada': 1,\n",
       "  'entonces': 1,\n",
       "  'escarcha;': 1,\n",
       "  'espumas': 1,\n",
       "  'esqueleto': 1,\n",
       "  'estrago': 1},\n",
       " 'f': {'festejando': 1, 'filtrado': 1, 'frutos': 1},\n",
       " 'h': {'habla': 1,\n",
       "  'hacia': 1,\n",
       "  'haya': 1,\n",
       "  'hayas': 1,\n",
       "  'hermana': 1,\n",
       "  'hombre': 1,\n",
       "  'hubiste': 1,\n",
       "  'huye': 1},\n",
       " 'i': {'intacto': 1},\n",
       " 'j': {'jardines': 1},\n",
       " 'l': {'la': 3,\n",
       "  'labios': 1,\n",
       "  'las': 7,\n",
       "  'lo': 2,\n",
       "  'los': 4,\n",
       "  'luna': 1,\n",
       "  'lévate': 1,\n",
       "  'límpiate': 1},\n",
       " 'm': {'mano': 1,\n",
       "  'manos': 1,\n",
       "  'margarita': 1,\n",
       "  'me': 10,\n",
       "  'mi': 1,\n",
       "  'mieles': 1,\n",
       "  'milagros': 1,\n",
       "  'mojada;': 1,\n",
       "  'montaña;': 1,\n",
       "  'morados': 1},\n",
       " 'n': {'negros': 1, 'ni': 2, 'no': 1, 'nácar': 1, 'nívea': 2},\n",
       " 'p': {'perdone': 2,\n",
       "  'perfume': 1,\n",
       "  'por': 2,\n",
       "  'pretendes': 3,\n",
       "  'preténdeme': 3,\n",
       "  'puesto': 1,\n",
       "  'pájaros': 1,\n",
       "  'pámpanos': 1},\n",
       " 'q': {'que': 6, 'quedó': 1, 'quieres': 6},\n",
       " 'r': {'rayo': 1, 'raíz': 1, 'renueva': 1, 'rocas;': 1, 'rojo': 1},\n",
       " 's': {'salitre': 1, 'se': 2, 'sea': 1, 'sean': 1, 'sobre': 2, 'sé': 1},\n",
       " 't': {'te': 3,\n",
       "  'tejidos': 1,\n",
       "  'tenue': 1,\n",
       "  'tierra': 1,\n",
       "  'toca': 1,\n",
       "  'todas': 2,\n",
       "  'todavía': 1,\n",
       "  'tornadas': 1,\n",
       "  'tú': 8},\n",
       " 'u': {'un': 1, 'una': 1},\n",
       " 'v': {'vestido': 1, 'vete': 1, 'vive': 1},\n",
       " 'y': {'y': 5}}"
      ]
     },
     "execution_count": 40,
     "metadata": {},
     "output_type": "execute_result"
    }
   ],
   "source": [
    "def count_order(filepath):\n",
    "    result = {}\n",
    "    with open(filepath, 'r', encoding='utf-8') as file:\n",
    "        text = file.read().lower()\n",
    "    words = text.split()\n",
    "    for word in words:\n",
    "        word = word.strip(\"()!¡.,\")\n",
    "        if not word:\n",
    "            continue\n",
    "        first_letter = word[0]\n",
    "        \n",
    "        if first_letter not in result:\n",
    "            result[first_letter] = {}\n",
    "        if word in result[first_letter]:\n",
    "            result[first_letter][word] += 1\n",
    "        else:\n",
    "            result[first_letter][word] = 1\n",
    "\n",
    "    for value in result:\n",
    "        result[value] = dict(sorted(result[value].items()))\n",
    "\n",
    "    return dict(sorted(result.items()))\n",
    "\n",
    "filepath = r\"C:/Users/mique/Downloads/tu_me_quieres_blanca.txt\"\n",
    "count_order(filepath)"
   ]
  }
 ],
 "metadata": {
  "kernelspec": {
   "display_name": "Python 3",
   "language": "python",
   "name": "python3"
  },
  "language_info": {
   "codemirror_mode": {
    "name": "ipython",
    "version": 3
   },
   "file_extension": ".py",
   "mimetype": "text/x-python",
   "name": "python",
   "nbconvert_exporter": "python",
   "pygments_lexer": "ipython3",
   "version": "3.13.0"
  }
 },
 "nbformat": 4,
 "nbformat_minor": 2
}
